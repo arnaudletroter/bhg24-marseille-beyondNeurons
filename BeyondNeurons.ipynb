{
 "cells": [
  {
   "cell_type": "code",
   "execution_count": 12,
   "id": "16dbb307",
   "metadata": {},
   "outputs": [],
   "source": [
    "import os\n",
    "import numpy as np\n",
    "import matplotlib.pyplot as plt\n",
    "import nibabel as nib\n",
    "import read_roi\n",
    "from read_roi import read_roi_zip\n",
    "from collections import OrderedDict\n",
    "import pathlib\n",
    "from pyometiff import OMETIFFReader\n",
    "import skimage as ski\n",
    "from skimage import data, color\n",
    "from skimage.transform import rescale, resize, downscale_local_mean"
   ]
  },
  {
   "cell_type": "code",
   "execution_count": 29,
   "id": "46ae7419",
   "metadata": {},
   "outputs": [
    {
     "name": "stdout",
     "output_type": "stream",
     "text": [
      "Deleting: /Users/letroter.a/Desktop/calimglia/expe/.DS_Store\n",
      "Deleted...\n",
      "Deleting: /Users/letroter.a/Desktop/calimglia/expe/slice2_L2_20X/.DS_Store\n",
      "Deleted...\n",
      "Files Deleted: 1\n"
     ]
    }
   ],
   "source": [
    "import glob, os\n",
    "\n",
    "dir_path = \"/Users/letroter.a/Desktop/calimglia/expe/\"\n",
    "\n",
    "for root, dirs, files in os.walk(dir_path):\n",
    "    i = 0\n",
    "    for file in files:\n",
    "        if file.endswith('.DS_Store'):\n",
    "            path = os.path.join(root, file)\n",
    "\n",
    "            print(\"Deleting: %s\" % (path))\n",
    "\n",
    "            if os.remove(path):\n",
    "                print(\"Unable to delete!\")\n",
    "            else:\n",
    "                print(\"Deleted...\")\n",
    "                i += 1\n",
    "\n",
    "print(\"Files Deleted: %d\" % (i))"
   ]
  },
  {
   "cell_type": "code",
   "execution_count": 31,
   "id": "1b3ed819",
   "metadata": {},
   "outputs": [
    {
     "name": "stdout",
     "output_type": "stream",
     "text": [
      "experience:  slice1_L2_20X\n",
      "/Users/letroter.a/Desktop/calimglia/expe/slice1_L2_20X/4_50_0_2_ds.nii.gz\n",
      "convert /Users/letroter.a/Desktop/calimglia/expe/slice1_L2_20X/0_2.ome.tiff to 0_2_ds.nii.gz\n",
      "/Users/letroter.a/Desktop/calimglia/expe/slice1_L2_20X/4_50_0_3_ds.nii.gz\n",
      "convert /Users/letroter.a/Desktop/calimglia/expe/slice1_L2_20X/0_3.ome.tiff to 0_3_ds.nii.gz\n",
      "/Users/letroter.a/Desktop/calimglia/expe/slice1_L2_20X/4_50_0_5_ds.nii.gz\n",
      "convert /Users/letroter.a/Desktop/calimglia/expe/slice1_L2_20X/0_5.ome.tiff to 0_5_ds.nii.gz\n",
      "/Users/letroter.a/Desktop/calimglia/expe/slice1_L2_20X/4_50_0_4_ds.nii.gz\n",
      "convert /Users/letroter.a/Desktop/calimglia/expe/slice1_L2_20X/0_4.ome.tiff to 0_4_ds.nii.gz\n",
      "read ROI\n",
      "0001-0330-0280 freehand\n",
      "ROI  1 freehand founded \n",
      "0636-0336-0286 freehand\n",
      "ROI  2 freehand founded \n",
      "0636-0100-0328 oval\n",
      "ROI skipped\n",
      "0001-0181-0341 freehand\n",
      "ROI  3 freehand founded \n",
      "0001-0345-0211 oval\n",
      "ROI skipped\n",
      "0734-0094-0132 oval\n",
      "ROI skipped\n",
      "2663-0296-0416 oval\n",
      "ROI skipped\n",
      "/Users/letroter.a/Desktop/calimglia/expe/slice1_L2_20X/4_50_0_1_ds.nii.gz\n",
      "convert /Users/letroter.a/Desktop/calimglia/expe/slice1_L2_20X/0_1.ome.tiff to 0_1_ds.nii.gz\n",
      "/Users/letroter.a/Desktop/calimglia/expe/slice1_L2_20X/4_50_0_6_ds.nii.gz\n",
      "convert /Users/letroter.a/Desktop/calimglia/expe/slice1_L2_20X/0_6.ome.tiff to 0_6_ds.nii.gz\n",
      "experience:  slice2_L2_20X\n",
      "/Users/letroter.a/Desktop/calimglia/expe/slice2_L2_20X/4_50_0_2_ds.nii.gz\n",
      "convert /Users/letroter.a/Desktop/calimglia/expe/slice2_L2_20X/0_2.ome.tiff to 0_2_ds.nii.gz\n",
      "/Users/letroter.a/Desktop/calimglia/expe/slice2_L2_20X/4_50_0_3_ds.nii.gz\n",
      "convert /Users/letroter.a/Desktop/calimglia/expe/slice2_L2_20X/0_3.ome.tiff to 0_3_ds.nii.gz\n",
      "/Users/letroter.a/Desktop/calimglia/expe/slice2_L2_20X/4_50_0_8_ds.nii.gz\n",
      "convert /Users/letroter.a/Desktop/calimglia/expe/slice2_L2_20X/0_8.ome.tiff to 0_8_ds.nii.gz\n",
      "/Users/letroter.a/Desktop/calimglia/expe/slice2_L2_20X/4_50_0_5_ds.nii.gz\n",
      "convert /Users/letroter.a/Desktop/calimglia/expe/slice2_L2_20X/0_5.ome.tiff to 0_5_ds.nii.gz\n",
      "/Users/letroter.a/Desktop/calimglia/expe/slice2_L2_20X/4_50_0_4_ds.nii.gz\n",
      "convert /Users/letroter.a/Desktop/calimglia/expe/slice2_L2_20X/0_4.ome.tiff to 0_4_ds.nii.gz\n",
      "read ROI\n",
      "1821-0245-0270 freehand\n",
      "ROI  1 freehand founded \n",
      "1821-0241-0269 freehand\n",
      "ROI  2 freehand founded \n",
      "1821-0200-0266 freehand\n",
      "ROI  3 freehand founded \n",
      "1821-0118-0260 freehand\n",
      "ROI  4 freehand founded \n",
      "0469-0185-0286 oval\n",
      "ROI skipped\n",
      "0766-0144-0390 oval\n",
      "ROI skipped\n",
      "0503-0121-0152 oval\n",
      "ROI skipped\n",
      "2391-0185-0215 oval\n",
      "ROI skipped\n",
      "2459-0078-0089 oval\n",
      "ROI skipped\n",
      "2858-0132-0409 oval\n",
      "ROI skipped\n",
      "/Users/letroter.a/Desktop/calimglia/expe/slice2_L2_20X/4_50_0_1_ds.nii.gz\n",
      "convert /Users/letroter.a/Desktop/calimglia/expe/slice2_L2_20X/0_1.ome.tiff to 0_1_ds.nii.gz\n",
      "/Users/letroter.a/Desktop/calimglia/expe/slice2_L2_20X/4_50_0_0_ds.nii.gz\n",
      "convert /Users/letroter.a/Desktop/calimglia/expe/slice2_L2_20X/0_0.ome.tiff to 0_0_ds.nii.gz\n",
      "/Users/letroter.a/Desktop/calimglia/expe/slice2_L2_20X/4_50_0_7_ds.nii.gz\n",
      "convert /Users/letroter.a/Desktop/calimglia/expe/slice2_L2_20X/0_7.ome.tiff to 0_7_ds.nii.gz\n"
     ]
    }
   ],
   "source": [
    "import pandas as pd\n",
    "\n",
    "df = pd.DataFrame()\n",
    "\n",
    "timepoint = 100 \n",
    "downsample_factor_x_y = 4\n",
    "downsample_factor_t = 50\n",
    "\n",
    "xform = np.eye(4)\n",
    "xform_mask = np.eye(4)\n",
    "hdr = nib.Nifti1Header()\n",
    "\n",
    "list_exp = os.listdir(dir_path)\n",
    "\n",
    "for exp in list_exp:\n",
    "    print(\"experience: \", exp)\n",
    "\n",
    "    list_files = os.listdir(os.path.join(dir_path,str(exp)))\n",
    "\n",
    "    for file in list_files:\n",
    "      if file.endswith(\".zip\"):\n",
    "        print(\"read ROI\")\n",
    "          \n",
    "        zip_file = os.path.join( dir_path , str(exp) , \"RoiSet.zip\")\n",
    "        \n",
    "        mask_number = 0\n",
    "        mask_shape = ((128, 128))\n",
    "        polygon_list = []\n",
    "        all_masks = np.zeros(mask_shape)\n",
    "    \n",
    "        if (os.path.isfile(zip_file)):\n",
    "            \n",
    "            my_rois = read_roi.read_roi_zip(zip_file)\n",
    "\n",
    "            for i in my_rois.keys():\n",
    "                print(my_rois[i]['name'], my_rois[i]['type'])\n",
    "                if (my_rois[i]['type']=='oval'):\n",
    "                    print(\"ROI skipped\")\n",
    "                    \n",
    "                if (my_rois[i]['type']=='freehand'):\n",
    "\n",
    "                    mask_number = mask_number + 1\n",
    "                    new_polygon = []\n",
    "                    print(\"ROI \", mask_number, \"freehand founded \")\n",
    "    \n",
    "                    for n in range(0,len(my_rois[i]['x'])):\n",
    "                        new_polygon.append([my_rois[i]['x'][n] / downsample_factor_x_y ,my_rois[i]['y'][n] / downsample_factor_x_y  ])\n",
    "\n",
    "                    if (len(new_polygon)> 0):\n",
    "                        polygon_list.append(new_polygon)                            \n",
    "                        mask = ski.draw.polygon2mask(mask_shape, polygon_list[mask_number-1])\n",
    "                        mask.astype(int)\n",
    "                        mask_downscaled = rescale(mask, 1, anti_aliasing=False)         \n",
    "                        mask_labeled = mask_downscaled.astype(int) * mask_number\n",
    "                        mask_label = np.zeros(mask_shape)\n",
    "                        mask_label = np.add(mask_label,mask_downscaled)\n",
    "                        mask_label_nii = nib.Nifti1Image(mask_label, xform_mask,hdr)\n",
    "\n",
    "                        mask_label_nii_name_ds_x_y_t = os.path.join( dir_path + str(exp) ,'mask' + str(mask_number) +'.nii.gz' )\n",
    "                        \n",
    "                        nib.save(mask_label_nii, mask_label_nii_name_ds_x_y_t)\n",
    "                        \n",
    "                        all_masks = np.add(all_masks,mask_labeled)\n",
    "\n",
    "        all_masks_nii = nib.Nifti1Image(all_masks, xform_mask,hdr)\n",
    "        allmask_filename = dir_path + '/' + str(exp) + '/labels.nii.gz' \n",
    "        nib.save(all_masks_nii, allmask_filename)\n",
    "\n",
    "      if file.endswith(\".ome.tiff\"):\n",
    "        img_ometif_name = dir_path + '/' + str(exp) + '/'  + str(file)\n",
    "        img_fpath = pathlib.Path(img_ometif_name)\n",
    "        filename_nii_ds_x_y_t = file.replace(\".ome.tiff\", \"_ds.nii.gz\")\n",
    "        ome_to_nii_name_ds_x_y_t = os.path.join(dir_path,str(exp),str(downsample_factor_x_y)+'_'+str(downsample_factor_t)+'_'+filename_nii_ds_x_y_t)\n",
    "        print(ome_to_nii_name_ds_x_y_t)\n",
    "        print(\"convert\",img_fpath,\"to\", filename_nii_ds_x_y_t)\n",
    "\n",
    "        check_file = os.path.exists(ome_to_nii_name_ds_x_y_t)\n",
    "\n",
    "        if (not check_file):\n",
    "            reader = OMETIFFReader(fpath=img_fpath)\n",
    "            img_array, metadata, xml_metadata = reader.read()\n",
    "            img_array_flip = np.swapaxes(img_array,2,0)\n",
    "            img_array_downscaled = downscale_local_mean(img_array_flip, (downsample_factor_x_y, downsample_factor_x_y, downsample_factor_t) )\n",
    "            img_array_downscaled_res = np.reshape(img_array_downscaled, (img_array_downscaled.shape[0], img_array_downscaled.shape[1], 1, img_array_downscaled.shape[2]))\n",
    "            convert_ome_to_nii_downscaled = nib.Nifti1Image(img_array_downscaled_res, xform)\n",
    "            print(img_array_downscaled_res.shape)\n",
    "            nib.save(convert_ome_to_nii_downscaled, ome_to_nii_name_ds_x_y_t)\n",
    "\n",
    "\n"
   ]
  },
  {
   "cell_type": "code",
   "execution_count": null,
   "id": "dd0b3733",
   "metadata": {},
   "outputs": [],
   "source": [
    "#import scipy\n",
    "#scipy.optimize.curve_fit(lambda t,a,b: a*numpy.exp(b*t),  x,  y,  p0=(4, 0.1))"
   ]
  },
  {
   "cell_type": "code",
   "execution_count": 73,
   "id": "e3e4efba-5a3c-46a4-a543-9a3dbf232fe5",
   "metadata": {},
   "outputs": [],
   "source": [
    "#import ants\n",
    "import os\n",
    "import numpy   as np\n",
    "import cv2\n",
    "import matplotlib.pyplot as plt\n",
    "import matplotlib.cm as cm"
   ]
  },
  {
   "cell_type": "code",
   "execution_count": 74,
   "id": "92791efa-3ee5-4132-ae74-dc6caa955219",
   "metadata": {},
   "outputs": [],
   "source": [
    "def read_image_nii(folder, index ):\n",
    "  mask = nib.load(os.path.join( folder , 'mask' + str(index) + '.nii.gz'))\n",
    "  mask_data=mask.get_fdata()\n",
    "  return (mask_data)"
   ]
  },
  {
   "cell_type": "code",
   "execution_count": 75,
   "id": "4df9330e-23fa-4496-8f97-c0bfdbe32d94",
   "metadata": {},
   "outputs": [
    {
     "name": "stdout",
     "output_type": "stream",
     "text": [
      "experience:  slice1_L2_20X\n",
      "experience:  slice2_L2_20X\n"
     ]
    }
   ],
   "source": [
    "for exp in list_exp:\n",
    "    print(\"experience: \", exp)"
   ]
  },
  {
   "cell_type": "code",
   "execution_count": 117,
   "id": "2e758e26-ea9e-4b65-9103-b133f0946cf4",
   "metadata": {},
   "outputs": [
    {
     "data": {
      "image/png": "[encoded data removed]",
      "text/plain": [
       "<Figure size 600x600 with 3 Axes>"
      ]
     },
     "metadata": {},
     "output_type": "display_data"
    },
    {
     "data": {
      "text/plain": [
       "True"
      ]
     },
     "execution_count": 117,
     "metadata": {},
     "output_type": "execute_result"
    }
   ],
   "source": [
    "index_source = 1\n",
    "index_target = 2\n",
    "\n",
    "mask_data_src=read_image_nii( os.path.join( dir_path ,\"slice1_L2_20X\"), index_source)\n",
    "mask_data_target=read_image_nii( os.path.join( dir_path ,\"slice2_L2_20X\"), index_target)\n",
    "\n",
    "plt.figure(figsize=(6,6))\n",
    "plt.axis('Off')\n",
    "plt.subplot(2,2,1)\n",
    "plt.imshow(mask_data_src, cmap=\"gray\", origin=\"lower\")\n",
    "plt.title('slice1_L2_20X')\n",
    "plt.axis('off')\n",
    "plt.subplot(2,2,2)\n",
    "plt.title(\"slice2_L2_20X\")\n",
    "plt.imshow(mask_data_target, cmap=\"gray\", origin=\"lower\")\n",
    "plt.axis('Off')\n",
    "plt.tight_layout()\n",
    "plt.show()\n",
    "\n",
    "# Filename\n",
    "filename = 'test.jpg'\n",
    "uint_img = np.array(mask_data_src*255).astype('uint8')\n",
    "\n",
    "cv2.imwrite(filename, uint_img)"
   ]
  },
  {
   "cell_type": "code",
   "execution_count": 132,
   "id": "dd6f8fc5-fcda-46a0-9c8c-8d0bbd84958e",
   "metadata": {},
   "outputs": [
    {
     "data": {
      "image/png": "[encoded data removed]",
      "text/plain": [
       "<Figure size 300x300 with 1 Axes>"
      ]
     },
     "metadata": {},
     "output_type": "display_data"
    }
   ],
   "source": [
    "image=cv2.imread(filename)\n",
    "gray = cv2.cvtColor(image, cv2.COLOR_BGR2GRAY)\n",
    "edges = cv.Canny(gray,100,200)\n",
    "contours, hierarchy = cv.findContours(edges, cv.RETR_TREE, cv.CHAIN_APPROX_SIMPLE)\n",
    "ellipse = cv2.fitEllipse(max(contours,key=cv2.contourArea))\n",
    "cv2.ellipse(image,ellipse,(0,255,0),1)\n",
    "\n",
    "plt.figure(figsize=(3,3))\n",
    "plt.imshow(image, cmap=\"gray\", origin=\"lower\")\n",
    "plt.show()"
   ]
  },
  {
   "cell_type": "code",
   "execution_count": 69,
   "id": "f20fde78-8201-473d-a5f9-30b91da2eeff",
   "metadata": {},
   "outputs": [
    {
     "ename": "NameError",
     "evalue": "name 'genEllipse' is not defined",
     "output_type": "error",
     "traceback": [
      "\u001b[0;31m---------------------------------------------------------------------------\u001b[0m",
      "\u001b[0;31mNameError\u001b[0m                                 Traceback (most recent call last)",
      "Cell \u001b[0;32mIn[69], line 1\u001b[0m\n\u001b[0;32m----> 1\u001b[0m (xc, yc), (width, height), angle \u001b[38;5;241m=\u001b[39m \u001b[43mgenEllipse\u001b[49m\n\u001b[1;32m      2\u001b[0m rminor \u001b[38;5;241m=\u001b[39m \u001b[38;5;28mmin\u001b[39m(width, height) \u001b[38;5;241m/\u001b[39m \u001b[38;5;241m2\u001b[39m\n\u001b[1;32m      3\u001b[0m xtop \u001b[38;5;241m=\u001b[39m xc \u001b[38;5;241m+\u001b[39m math\u001b[38;5;241m.\u001b[39mcos(math\u001b[38;5;241m.\u001b[39mradians(angle)) \u001b[38;5;241m*\u001b[39m rminor\n",
      "\u001b[0;31mNameError\u001b[0m: name 'genEllipse' is not defined"
     ]
    }
   ],
   "source": [
    "(xc, yc), (width, height), angle = genEllipse\n",
    "rminor = min(width, height) / 2\n",
    "xtop = xc + math.cos(math.radians(angle)) * rminor\n",
    "ytop = yc + math.sin(math.radians(angle)) * rminor\n",
    "cv2.line(result, (int(xtop), int(ytop)), (int(xc), int(yc)), (0, 0, 255), 3)"
   ]
  },
  {
   "cell_type": "code",
   "execution_count": null,
   "id": "9e3972de",
   "metadata": {},
   "outputs": [],
   "source": [
    "fig=plt.figure(figsize=(5,5))  \n",
    "plt.title(\"histogram on full dataset after arPLS correction\")\n",
    "plt.xlabel('times')\n",
    "plt.ylabel('expe number')\n",
    "\n",
    "width=150\n",
    "# Paramètres pour l'échelle de couleur\n",
    "vmin = 0\n",
    "vmax = .5\n",
    "\n",
    "all_spectra_arPLS_select_cum[0:20]=0\n",
    "print(all_spectra_arPLS_select_cum.shape)\n",
    "expe = plt.imshow(all_spectra_arPLS_select_cum.reshape(all_spectra_arPLS_select_cum.shape[0]//width,width), cmap='hot', aspect='auto', vmin=vmin, vmax=vmax)\n",
    "fig.colorbar(expe)\n",
    "\n",
    "plt.savefig(dir_path +'heatmap.pdf')\n",
    "\n"
   ]
  },
  {
   "cell_type": "code",
   "execution_count": null,
   "id": "cb1ec36b",
   "metadata": {},
   "outputs": [],
   "source": [
    "#Plot data\n",
    "fig, axs = plt.subplots(1,2,figsize=(16,9) )\n",
    "\n",
    "facto_s = np.percentile(all_spectra_select[1:149],50)\n",
    "axs[0].plot(all_spectra_select[1:149]/facto_s, label='all neurons manually segmented')\n",
    "\n",
    "facto_b = np.percentile(all_spectra_random[1:149],50)\n",
    "#axs[0].plot(all_spectra_random[1:149]/facto_b, label='random background')\n",
    "axs[0].set_title('before baseline correction')\n",
    "axs[0].set_ylabel('raw signals')\n",
    "axs[0].set_xlabel('time')\n",
    "axs[0].legend()\n",
    "\n",
    "#asymmetrically reweighted Penalized Least Squares (arPLS)\n",
    "axs[1].plot(all_spectra_arPLS_substrated_normalized[1:149], label='all neurons manually segmented')\n",
    "#ax3.plot(all_spectra_arPLS_background[1:149], label='background')\n",
    "#axs[1].plot(all_spectra_arPLS_random[1:149], label='random background')\n",
    "axs[1].set_title('after arPLS baseline correction')\n",
    "axs[1].set_ylabel('corrected signals')\n",
    "axs[1].set_xlabel('time')\n",
    "axs[1].legend()\n",
    "\n",
    "fig.suptitle('cumulative histogram on entire dataset')\n",
    "\n",
    "\n",
    "plt.show()\n"
   ]
  },
  {
   "cell_type": "code",
   "execution_count": null,
   "id": "3ea77f7a",
   "metadata": {},
   "outputs": [],
   "source": [
    "fig3, ax3 = plt.subplots( nrows=1, ncols=1 )  # create figure & 1 axis\n",
    "\n",
    "all_spectra_arPLS_substrated_normalized[0:20]=0\n",
    "\n",
    "ax3.plot(all_spectra_arPLS_substrated_normalized[1:149], label='all neurons')\n",
    "plt.xlabel('times')\n",
    "plt.ylabel('corrected signals')\n",
    "plt.title('cumulative histogram after baseline correction (arPLS)')\n",
    "ax3.legend()\n",
    "fig3.show()\n",
    "\n",
    "plt.savefig(dir_path +'hist_cum.pdf')"
   ]
  },
  {
   "cell_type": "code",
   "execution_count": null,
   "id": "b8838349",
   "metadata": {},
   "outputs": [],
   "source": [
    "#display the DataFrame\n",
    "df_norm"
   ]
  },
  {
   "cell_type": "code",
   "execution_count": null,
   "id": "96f0eb16",
   "metadata": {},
   "outputs": [],
   "source": [
    "df.to_csv(dir_path + '/results_raw.csv', index=False) \n",
    "df_norm.to_csv(dir_path + '/results_norm.csv', index=False) "
   ]
  },
  {
   "cell_type": "code",
   "execution_count": null,
   "id": "434d0fcd-f665-4e9e-8059-ad6c51e77802",
   "metadata": {},
   "outputs": [],
   "source": []
  },
  {
   "cell_type": "code",
   "execution_count": null,
   "id": "0f3ebb8b-052e-4648-9c66-3701a38ebb32",
   "metadata": {},
   "outputs": [],
   "source": [
    " #filename_nii = file.replace(\".ome.tiff\", \"_nlm.nii.gz\")\n",
    "                #filename_nii_ds = file.replace(\".ome.tiff\", \"_ds.nii.gz\")\n",
    "                #ome_to_nii_name = dir_path + '/' + str(exp) + '/'  + filename_nii\n",
    "                #ome_to_nii_name_ds = dir_path + '/' + str(exp) + '/'  + filename_nii_ds\n",
    "                #img_array_flip_mean = np.mean(img_array_flip[:,:,:], axis = 2)\n",
    "                #img_array_flip_mean_downscaled = downscale_local_mean(img_array_flip_mean, (2, 2) )\n",
    "                #stack_average_ome_to_nii = nib.Nifti1Image(img_array_flip_mean, xform)\n",
    "                #nib.save(stack_average_ome_to_nii, ome_to_nii_name)\n",
    "                #stack_average_ome_to_nii_ds = nib.Nifti1Image(img_array_flip_mean_downscaled, xform)\n",
    "                #nib.save(stack_average_ome_to_nii_ds, ome_to_nii_name_ds)  \n",
    "                "
   ]
  }
 ],
 "metadata": {
  "kernelspec": {
   "display_name": "Python 3 (ipykernel)",
   "language": "python",
   "name": "python3"
  },
  "language_info": {
   "codemirror_mode": {
    "name": "ipython",
    "version": 3
   },
   "file_extension": ".py",
   "mimetype": "text/x-python",
   "name": "python",
   "nbconvert_exporter": "python",
   "pygments_lexer": "ipython3",
   "version": "3.11.6"
  }
 },
 "nbformat": 4,
 "nbformat_minor": 5
}
