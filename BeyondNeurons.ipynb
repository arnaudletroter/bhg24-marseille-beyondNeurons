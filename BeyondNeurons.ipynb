{
 "cells": [
  {
   "cell_type": "code",
   "execution_count": 1,
   "id": "16dbb307",
   "metadata": {},
   "outputs": [],
   "source": [
    "import os\n",
    "import numpy as np\n",
    "import matplotlib.pyplot as plt\n",
    "import nibabel as nib\n",
    "import read_roi\n",
    "from read_roi import read_roi_zip\n",
    "from collections import OrderedDict\n",
    "import pathlib\n",
    "from pyometiff import OMETIFFReader\n",
    "import skimage as ski\n",
    "from skimage import data, color\n",
    "from skimage.transform import rescale, resize, downscale_local_mean"
   ]
  },
  {
   "cell_type": "code",
   "execution_count": 87,
   "id": "46ae7419",
   "metadata": {},
   "outputs": [
    {
     "name": "stdout",
     "output_type": "stream",
     "text": [
      "Deleting: /Users/letroter.a/Desktop/calimglia/expe/.DS_Store\n",
      "Deleted...\n",
      "Deleting: /Users/letroter.a/Desktop/calimglia/expe/reg/.DS_Store\n",
      "Deleted...\n",
      "Files Deleted: 0\n"
     ]
    }
   ],
   "source": [
    "import glob, os\n",
    "\n",
    "dir_path = \"/Users/letroter.a/Desktop/calimglia/expe/\"\n",
    "\n",
    "for root, dirs, files in os.walk(dir_path):\n",
    "    i = 0\n",
    "    for file in files:\n",
    "        if file.endswith('.DS_Store'):\n",
    "            path = os.path.join(root, file)\n",
    "\n",
    "            print(\"Deleting: %s\" % (path))\n",
    "\n",
    "            if os.remove(path):\n",
    "                print(\"Unable to delete!\")\n",
    "            else:\n",
    "                print(\"Deleted...\")\n",
    "                i += 1\n",
    "\n",
    "print(\"Files Deleted: %d\" % (i))"
   ]
  },
  {
   "cell_type": "code",
   "execution_count": 12,
   "id": "1b3ed819",
   "metadata": {},
   "outputs": [
    {
     "name": "stdout",
     "output_type": "stream",
     "text": [
      "experience:  reg\n",
      "experience:  slice1_L2_20X\n",
      "/Users/letroter.a/Desktop/calimglia/expe/slice1_L2_20X/4_50_0_2_ds.nii.gz\n",
      "convert /Users/letroter.a/Desktop/calimglia/expe/slice1_L2_20X/0_2.ome.tiff to 0_2_ds.nii.gz\n",
      "/Users/letroter.a/Desktop/calimglia/expe/slice1_L2_20X/4_50_0_3_ds.nii.gz\n",
      "convert /Users/letroter.a/Desktop/calimglia/expe/slice1_L2_20X/0_3.ome.tiff to 0_3_ds.nii.gz\n",
      "/Users/letroter.a/Desktop/calimglia/expe/slice1_L2_20X/4_50_0_5_ds.nii.gz\n",
      "convert /Users/letroter.a/Desktop/calimglia/expe/slice1_L2_20X/0_5.ome.tiff to 0_5_ds.nii.gz\n",
      "/Users/letroter.a/Desktop/calimglia/expe/slice1_L2_20X/4_50_0_4_ds.nii.gz\n",
      "convert /Users/letroter.a/Desktop/calimglia/expe/slice1_L2_20X/0_4.ome.tiff to 0_4_ds.nii.gz\n",
      "read ROI\n",
      "0001-0330-0280 freehand\n",
      "ROI  1 freehand founded \n",
      "0636-0336-0286 freehand\n",
      "ROI  2 freehand founded \n",
      "0636-0100-0328 oval\n",
      "ROI skipped\n",
      "0001-0181-0341 freehand\n",
      "ROI  3 freehand founded \n",
      "0001-0345-0211 oval\n",
      "ROI skipped\n",
      "0734-0094-0132 oval\n",
      "ROI skipped\n",
      "2663-0296-0416 oval\n",
      "ROI skipped\n",
      "/Users/letroter.a/Desktop/calimglia/expe/slice1_L2_20X/4_50_0_1_ds.nii.gz\n",
      "convert /Users/letroter.a/Desktop/calimglia/expe/slice1_L2_20X/0_1.ome.tiff to 0_1_ds.nii.gz\n",
      "/Users/letroter.a/Desktop/calimglia/expe/slice1_L2_20X/4_50_0_6_ds.nii.gz\n",
      "convert /Users/letroter.a/Desktop/calimglia/expe/slice1_L2_20X/0_6.ome.tiff to 0_6_ds.nii.gz\n",
      "experience:  slice2_L2_20X\n",
      "/Users/letroter.a/Desktop/calimglia/expe/slice2_L2_20X/4_50_0_2_ds.nii.gz\n",
      "convert /Users/letroter.a/Desktop/calimglia/expe/slice2_L2_20X/0_2.ome.tiff to 0_2_ds.nii.gz\n",
      "/Users/letroter.a/Desktop/calimglia/expe/slice2_L2_20X/4_50_0_3_ds.nii.gz\n",
      "convert /Users/letroter.a/Desktop/calimglia/expe/slice2_L2_20X/0_3.ome.tiff to 0_3_ds.nii.gz\n",
      "/Users/letroter.a/Desktop/calimglia/expe/slice2_L2_20X/4_50_0_8_ds.nii.gz\n",
      "convert /Users/letroter.a/Desktop/calimglia/expe/slice2_L2_20X/0_8.ome.tiff to 0_8_ds.nii.gz\n",
      "/Users/letroter.a/Desktop/calimglia/expe/slice2_L2_20X/4_50_0_5_ds.nii.gz\n",
      "convert /Users/letroter.a/Desktop/calimglia/expe/slice2_L2_20X/0_5.ome.tiff to 0_5_ds.nii.gz\n",
      "/Users/letroter.a/Desktop/calimglia/expe/slice2_L2_20X/4_50_0_4_ds.nii.gz\n",
      "convert /Users/letroter.a/Desktop/calimglia/expe/slice2_L2_20X/0_4.ome.tiff to 0_4_ds.nii.gz\n",
      "read ROI\n",
      "1821-0245-0270 freehand\n",
      "ROI  1 freehand founded \n",
      "1821-0241-0269 freehand\n",
      "ROI  2 freehand founded \n",
      "1821-0200-0266 freehand\n",
      "ROI  3 freehand founded \n",
      "1821-0118-0260 freehand\n",
      "ROI  4 freehand founded \n",
      "0469-0185-0286 oval\n",
      "ROI skipped\n",
      "0766-0144-0390 oval\n",
      "ROI skipped\n",
      "0503-0121-0152 oval\n",
      "ROI skipped\n",
      "2391-0185-0215 oval\n",
      "ROI skipped\n",
      "2459-0078-0089 oval\n",
      "ROI skipped\n",
      "2858-0132-0409 oval\n",
      "ROI skipped\n",
      "/Users/letroter.a/Desktop/calimglia/expe/slice2_L2_20X/4_50_0_1_ds.nii.gz\n",
      "convert /Users/letroter.a/Desktop/calimglia/expe/slice2_L2_20X/0_1.ome.tiff to 0_1_ds.nii.gz\n",
      "/Users/letroter.a/Desktop/calimglia/expe/slice2_L2_20X/4_50_0_0_ds.nii.gz\n",
      "convert /Users/letroter.a/Desktop/calimglia/expe/slice2_L2_20X/0_0.ome.tiff to 0_0_ds.nii.gz\n",
      "/Users/letroter.a/Desktop/calimglia/expe/slice2_L2_20X/4_50_0_7_ds.nii.gz\n",
      "convert /Users/letroter.a/Desktop/calimglia/expe/slice2_L2_20X/0_7.ome.tiff to 0_7_ds.nii.gz\n"
     ]
    }
   ],
   "source": [
    "import pandas as pd\n",
    "\n",
    "df = pd.DataFrame()\n",
    "\n",
    "timepoint = 100 \n",
    "downsample_factor_x_y = 4\n",
    "downsample_factor_t = 50\n",
    "\n",
    "xform = np.eye(4)\n",
    "xform_mask = np.eye(4)\n",
    "hdr = nib.Nifti1Header()\n",
    "\n",
    "list_exp = os.listdir(dir_path)\n",
    "\n",
    "for exp in list_exp:\n",
    "    print(\"experience: \", exp)\n",
    "\n",
    "    list_files = os.listdir(os.path.join(dir_path,str(exp)))\n",
    "\n",
    "    for file in list_files:\n",
    "      if file.endswith(\".zip\"):\n",
    "        print(\"read ROI\")\n",
    "          \n",
    "        zip_file = os.path.join( dir_path , str(exp) , \"RoiSet.zip\")\n",
    "        \n",
    "        mask_number = 0\n",
    "        mask_shape = ((128, 128))\n",
    "        polygon_list = []\n",
    "        all_masks = np.zeros(mask_shape)\n",
    "    \n",
    "        if (os.path.isfile(zip_file)):\n",
    "            \n",
    "            my_rois = read_roi.read_roi_zip(zip_file)\n",
    "\n",
    "            for i in my_rois.keys():\n",
    "                print(my_rois[i]['name'], my_rois[i]['type'])\n",
    "                if (my_rois[i]['type']=='oval'):\n",
    "                    print(\"ROI skipped\")\n",
    "                    \n",
    "                if (my_rois[i]['type']=='freehand'):\n",
    "\n",
    "                    mask_number = mask_number + 1\n",
    "                    new_polygon = []\n",
    "                    print(\"ROI \", mask_number, \"freehand founded \")\n",
    "    \n",
    "                    for n in range(0,len(my_rois[i]['x'])):\n",
    "                        new_polygon.append([my_rois[i]['x'][n] / downsample_factor_x_y ,my_rois[i]['y'][n] / downsample_factor_x_y  ])\n",
    "\n",
    "                    if (len(new_polygon)> 0):\n",
    "                        polygon_list.append(new_polygon)                            \n",
    "                        mask = ski.draw.polygon2mask(mask_shape, polygon_list[mask_number-1])\n",
    "                        mask.astype(int)\n",
    "                        mask_downscaled = rescale(mask, 1, anti_aliasing=False)         \n",
    "                        mask_labeled = mask_downscaled.astype(int) * mask_number\n",
    "                        mask_label = np.zeros(mask_shape)\n",
    "                        mask_label = np.add(mask_label,mask_downscaled)\n",
    "                        mask_label_nii = nib.Nifti1Image(mask_label, xform_mask,hdr)\n",
    "\n",
    "                        mask_label_nii_name_ds_x_y_t = os.path.join( dir_path + str(exp) ,'mask' + str(mask_number) +'.nii.gz' )\n",
    "                        \n",
    "                        nib.save(mask_label_nii, mask_label_nii_name_ds_x_y_t)\n",
    "                        \n",
    "                        all_masks = np.add(all_masks,mask_labeled)\n",
    "\n",
    "        all_masks_nii = nib.Nifti1Image(all_masks, xform_mask,hdr)\n",
    "        allmask_filename = dir_path + '/' + str(exp) + '/labels.nii.gz' \n",
    "        nib.save(all_masks_nii, allmask_filename)\n",
    "\n",
    "      if file.endswith(\".ome.tiff\"):\n",
    "        img_ometif_name = dir_path + '/' + str(exp) + '/'  + str(file)\n",
    "        img_fpath = pathlib.Path(img_ometif_name)\n",
    "        filename_nii_ds_x_y_t = file.replace(\".ome.tiff\", \"_ds.nii.gz\")\n",
    "        ome_to_nii_name_ds_x_y_t = os.path.join(dir_path,str(exp),str(downsample_factor_x_y)+'_'+str(downsample_factor_t)+'_'+filename_nii_ds_x_y_t)\n",
    "        print(ome_to_nii_name_ds_x_y_t)\n",
    "        print(\"convert\",img_fpath,\"to\", filename_nii_ds_x_y_t)\n",
    "\n",
    "        check_file = os.path.exists(ome_to_nii_name_ds_x_y_t)\n",
    "\n",
    "        if (not check_file):\n",
    "            reader = OMETIFFReader(fpath=img_fpath)\n",
    "            img_array, metadata, xml_metadata = reader.read()\n",
    "            img_array_flip = np.swapaxes(img_array,2,0)\n",
    "            img_array_downscaled = downscale_local_mean(img_array_flip, (downsample_factor_x_y, downsample_factor_x_y, downsample_factor_t) )\n",
    "            img_array_downscaled_res = np.reshape(img_array_downscaled, (img_array_downscaled.shape[0], img_array_downscaled.shape[1], 1, img_array_downscaled.shape[2]))\n",
    "            convert_ome_to_nii_downscaled = nib.Nifti1Image(img_array_downscaled_res, xform)\n",
    "            print(img_array_downscaled_res.shape)\n",
    "            nib.save(convert_ome_to_nii_downscaled, ome_to_nii_name_ds_x_y_t)\n",
    "\n",
    "\n"
   ]
  },
  {
   "cell_type": "code",
   "execution_count": 13,
   "id": "e3e4efba-5a3c-46a4-a543-9a3dbf232fe5",
   "metadata": {},
   "outputs": [],
   "source": [
    "#import ants\n",
    "import os\n",
    "import numpy   as np\n",
    "import cv2\n",
    "import matplotlib.pyplot as plt\n",
    "import matplotlib.cm as cm"
   ]
  },
  {
   "cell_type": "code",
   "execution_count": 14,
   "id": "92791efa-3ee5-4132-ae74-dc6caa955219",
   "metadata": {},
   "outputs": [],
   "source": [
    "def read_image_nii(folder, index ):\n",
    "  mask = nib.load(os.path.join( folder , 'mask' + str(index) + '.nii.gz'))\n",
    "  mask_data=mask.get_fdata()\n",
    "  return (mask_data)"
   ]
  },
  {
   "cell_type": "code",
   "execution_count": 15,
   "id": "4df9330e-23fa-4496-8f97-c0bfdbe32d94",
   "metadata": {},
   "outputs": [
    {
     "name": "stdout",
     "output_type": "stream",
     "text": [
      "experience:  reg\n",
      "experience:  slice1_L2_20X\n",
      "experience:  slice2_L2_20X\n"
     ]
    }
   ],
   "source": [
    "for exp in list_exp:\n",
    "    print(\"experience: \", exp)"
   ]
  },
  {
   "cell_type": "code",
   "execution_count": 37,
   "id": "2e758e26-ea9e-4b65-9103-b133f0946cf4",
   "metadata": {},
   "outputs": [
    {
     "data": {
      "image/png": "[encoded data removed]",
      "text/plain": [
       "<Figure size 600x600 with 3 Axes>"
      ]
     },
     "metadata": {},
     "output_type": "display_data"
    },
    {
     "data": {
      "text/plain": [
       "True"
      ]
     },
     "execution_count": 37,
     "metadata": {},
     "output_type": "execute_result"
    }
   ],
   "source": [
    "index_source = 1\n",
    "index_target = 2\n",
    "\n",
    "mask_data_src=read_image_nii( os.path.join( dir_path ,\"slice1_L2_20X\"), index_source)\n",
    "mask_data_target=read_image_nii( os.path.join( dir_path ,\"slice2_L2_20X\"), index_target)\n",
    "\n",
    "plt.figure(figsize=(6,6))\n",
    "plt.axis('Off')\n",
    "plt.subplot(2,2,1)\n",
    "plt.imshow(mask_data_src, cmap=\"gray\", origin=\"lower\")\n",
    "plt.title('slice1_L2_20X')\n",
    "plt.axis('off')\n",
    "plt.subplot(2,2,2)\n",
    "plt.title(\"slice2_L2_20X\")\n",
    "plt.imshow(mask_data_target, cmap=\"gray\", origin=\"lower\")\n",
    "plt.axis('Off')\n",
    "plt.tight_layout()\n",
    "plt.show()\n",
    "\n",
    "# Filename\n",
    "filename = 'expe/reg/mask_slice1_L2_20X.bmp'\n",
    "uint_img = np.array(mask_data_src*255).astype('uint8')\n",
    "cv2.imwrite(filename, uint_img)\n",
    "filename = 'expe/reg/mask_slice2_L2_20X.bmp'\n",
    "uint_img = np.array(mask_data_target*255).astype('uint8')\n",
    "cv2.imwrite(filename, uint_img)"
   ]
  },
  {
   "cell_type": "code",
   "execution_count": 38,
   "id": "dd6f8fc5-fcda-46a0-9c8c-8d0bbd84958e",
   "metadata": {},
   "outputs": [
    {
     "data": {
      "image/png": "[encoded data removed]",
      "text/plain": [
       "<Figure size 300x300 with 1 Axes>"
      ]
     },
     "metadata": {},
     "output_type": "display_data"
    }
   ],
   "source": [
    "image=cv2.imread(filename)\n",
    "gray = cv2.cvtColor(image, cv2.COLOR_BGR2GRAY)\n",
    "edges = cv2.Canny(gray,100,200)\n",
    "contours, hierarchy = cv2.findContours(edges, cv2.RETR_TREE, cv2.CHAIN_APPROX_SIMPLE)\n",
    "ellipse = cv2.fitEllipse(max(contours,key=cv2.contourArea))\n",
    "cv2.ellipse(image,ellipse,(0,255,0),1)\n",
    "\n",
    "plt.figure(figsize=(3,3))\n",
    "plt.imshow(image, cmap=\"gray\", origin=\"lower\")\n",
    "plt.show()"
   ]
  },
  {
   "cell_type": "code",
   "execution_count": 77,
   "id": "71b453f6-4812-4711-9922-a066d04d46e9",
   "metadata": {},
   "outputs": [
    {
     "data": {
      "text/plain": [
       "True"
      ]
     },
     "execution_count": 77,
     "metadata": {},
     "output_type": "execute_result"
    },
    {
     "data": {
      "image/png": "[encoded data removed]",
      "text/plain": [
       "<Figure size 1500x1200 with 1 Axes>"
      ]
     },
     "metadata": {},
     "output_type": "display_data"
    }
   ],
   "source": [
    "template = np.zeros([128, 128, 3], dtype=np.uint8)\n",
    "template_gray = cv2.cvtColor(template, cv2.COLOR_BGR2GRAY)\n",
    "\n",
    "# draw ellipse on template_moving (normal eyes)\n",
    "thickness = -1 #filled\n",
    "#thickness = 0 #wire\n",
    "cv2.ellipse(template_gray,(64,64),(10,15),1,0,360,(255,255,255),thickness, cv2.FILLED,0)\n",
    "\n",
    "# draw ellipse on template_target (fisheyes)\n",
    "#cv.circle(template_fisheyes_target,(,(64,64,20,(255,255,255),2,8,0)\n",
    "plt.figure(figsize=(15,12))\n",
    "plt.subplot(1,2,1)\n",
    "plt.imshow(template_gray,cmap=cm.gray)\n",
    "cv2.imwrite(\"expe/reg/template.bmp\",template_gray)"
   ]
  },
  {
   "cell_type": "code",
   "execution_count": 85,
   "id": "b259e11e-8b60-4a4f-8ace-50fa37f8408a",
   "metadata": {},
   "outputs": [
    {
     "name": "stdout",
     "output_type": "stream",
     "text": [
      "Init Matrix = \n",
      "1.000000 0.000000 0.000000 0.000000 \n",
      "0.000000 1.000000 0.000000 0.000000 \n",
      "0.000000 0.000000 1.000000 0.000000 \n",
      "0.000000 0.000000 0.000000 1.000000 \n",
      "\n",
      " >> # 8mm scale\n",
      " >> setscale 8\n",
      " >> setoption smoothing 8\n",
      " >> setoption paramsubset 3  0 0 1 0 0 0 0 0 0 0 0 0  0 0 0 1 0 0 0 0 0 0 0 0  0 0 0 0 1 0 0 0 0 0 0 0\n",
      " >> clear U\n",
      " >> clear UA\n",
      " >> setrow UA 1 0 0 0  0 1 0 0  0 0 1 0  0 0 0 1\n",
      " >> optimise 12 UA:1  0.0   0.0   0.0   0.0   0.0   0.0   0.0  rel 4 \n",
      " >> \n",
      " >> # 4mm scale\n",
      " >> setscale 4\n",
      " >> setoption smoothing 4\n",
      " >> setoption paramsubset 3  0 0 1 0 0 0 0 0 0 0 0 0  0 0 0 1 0 0 0 0 0 0 0 0  0 0 0 0 1 0 0 0 0 0 0 0\n",
      " >> clear UB\n",
      " >> clear UL\n",
      " >> clear UM\n",
      " >> # remeasure costs at this scale\n",
      " >> clear U\n",
      " >> measurecost 12 UA 0 0 0 0 0 0 rel\n",
      " >> sort U\n",
      " >> copy U UL\n",
      " >> # optimise best 3 candidates\n",
      " >> clear U\n",
      " >> optimise 12 UL:1-3  0.0   0.0   0.0   0.0   0.0   0.0   0.0  rel 4\n",
      " >> # also try the identity transform as a starting point at this resolution\n",
      " >> clear UQ\n",
      " >> setrow UQ  1 0 0 0  0 1 0 0  0 0 1 0  0 0 0 1\n",
      " >> optimise 7 UQ  0.0   0.0   0.0   0.0   0.0   0.0   0.0  rel 4\n",
      " >> sort U\n",
      " >> copy U UM\n",
      " >> # select best 4 optimised solutions and try perturbations of these\n",
      " >> clear U\n",
      " >> copy UM:1-4 U\n",
      " >> optimise 12 UM:1-4  0.0   0.0   1.0   0.0   0.0   0.0   0.0  rel 4\n",
      " >> optimise 12 UM:1-4  0.0   0.0  -1.0   0.0   0.0   0.0   0.0  rel 4\n",
      " >> sort U\n",
      " >> clear UB\n",
      " >> copy U UB\n",
      " >> \n",
      " >> # 2mm scale\n",
      " >> setscale 2\n",
      " >> setoption smoothing 2\n",
      " >> setoption paramsubset 3  0 0 1 0 0 0 0 0 0 0 0 0  0 0 0 1 0 0 0 0 0 0 0 0  0 0 0 0 1 0 0 0 0 0 0 0\n",
      " >> clear U\n",
      " >> clear UC\n",
      " >> clear UD\n",
      " >> clear UE\n",
      " >> clear UF\n",
      " >> # remeasure costs at this scale\n",
      " >> measurecost 12 UB 0 0 0 0 0 0 rel\n",
      " >> sort U\n",
      " >> copy U UC\n",
      " >> clear U\n",
      " >> optimise 12  UC:1  0.0   0.0   0.0   0.0   0.0   0.0   0.0  rel 4\n",
      " >> copy U UD\n",
      " >> setoption boundguess 1\n",
      " >> if MAXDOF > 7\n",
      " >>  clear U\n",
      " >> if MAXDOF > 7\n",
      " >>  optimise 9  UD:1  0.0   0.0   0.0   0.0   0.0   0.0   0.0  rel 1\n",
      " >> copy U UE\n",
      " >> if MAXDOF > 9\n",
      " >>  clear U\n",
      " >> if MAXDOF > 9\n",
      " >>  optimise 12 UE:1  0.0   0.0   0.0   0.0   0.0   0.0   0.0  rel 2\n",
      " >> sort U\n",
      " >> copy U UF\n",
      " >> \n",
      " >> # 1mm scale\n",
      " >> setscale 1\n",
      " >> setoption smoothing 1\n",
      " >> setoption boundguess 1\n",
      " >> setoption paramsubset 3  0 0 1 0 0 0 0 0 0 0 0 0  0 0 0 1 0 0 0 0 0 0 0 0  0 0 0 0 1 0 0 0 0 0 0 0\n",
      " >> clear U\n",
      " >> # also try the qsform as a starting point at this resolution\n",
      " >> setrowqsform UF\n",
      " >> optimise 12 UF:1-2  0.0   0.0   0.0   0.0   0.0   0.0   0.0  rel 1\n",
      " >> sort U\n",
      "Init Matrix = \n",
      "1.000000 0.000000 0.000000 0.000000 \n",
      "0.000000 1.000000 0.000000 0.000000 \n",
      "0.000000 0.000000 1.000000 0.000000 \n",
      "0.000000 0.000000 0.000000 1.000000 \n",
      "\n",
      " >> # 8mm scale\n",
      " >> setscale 8\n",
      " >> setoption smoothing 8\n",
      " >> setoption paramsubset 3  0 0 1 0 0 0 0 0 0 0 0 0  0 0 0 1 0 0 0 0 0 0 0 0  0 0 0 0 1 0 0 0 0 0 0 0\n",
      " >> clear U\n",
      " >> clear UA\n",
      " >> setrow UA 1 0 0 0  0 1 0 0  0 0 1 0  0 0 0 1\n",
      " >> optimise 12 UA:1  0.0   0.0   0.0   0.0   0.0   0.0   0.0  rel 4 \n",
      " >> \n",
      " >> # 4mm scale\n",
      " >> setscale 4\n",
      " >> setoption smoothing 4\n",
      " >> setoption paramsubset 3  0 0 1 0 0 0 0 0 0 0 0 0  0 0 0 1 0 0 0 0 0 0 0 0  0 0 0 0 1 0 0 0 0 0 0 0\n",
      " >> clear UB\n",
      " >> clear UL\n",
      " >> clear UM\n",
      " >> # remeasure costs at this scale\n",
      " >> clear U\n",
      " >> measurecost 12 UA 0 0 0 0 0 0 rel\n",
      " >> sort U\n",
      " >> copy U UL\n",
      " >> # optimise best 3 candidates\n",
      " >> clear U\n",
      " >> optimise 12 UL:1-3  0.0   0.0   0.0   0.0   0.0   0.0   0.0  rel 4\n",
      " >> # also try the identity transform as a starting point at this resolution\n",
      " >> clear UQ\n",
      " >> setrow UQ  1 0 0 0  0 1 0 0  0 0 1 0  0 0 0 1\n",
      " >> optimise 7 UQ  0.0   0.0   0.0   0.0   0.0   0.0   0.0  rel 4\n",
      " >> sort U\n",
      " >> copy U UM\n",
      " >> # select best 4 optimised solutions and try perturbations of these\n",
      " >> clear U\n",
      " >> copy UM:1-4 U\n",
      " >> optimise 12 UM:1-4  0.0   0.0   1.0   0.0   0.0   0.0   0.0  rel 4\n",
      " >> optimise 12 UM:1-4  0.0   0.0  -1.0   0.0   0.0   0.0   0.0  rel 4\n",
      " >> sort U\n",
      " >> clear UB\n",
      " >> copy U UB\n",
      " >> \n",
      " >> # 2mm scale\n",
      " >> setscale 2\n",
      " >> setoption smoothing 2\n",
      " >> setoption paramsubset 3  0 0 1 0 0 0 0 0 0 0 0 0  0 0 0 1 0 0 0 0 0 0 0 0  0 0 0 0 1 0 0 0 0 0 0 0\n",
      " >> clear U\n",
      " >> clear UC\n",
      " >> clear UD\n",
      " >> clear UE\n",
      " >> clear UF\n",
      " >> # remeasure costs at this scale\n",
      " >> measurecost 12 UB 0 0 0 0 0 0 rel\n",
      " >> sort U\n",
      " >> copy U UC\n",
      " >> clear U\n",
      " >> optimise 12  UC:1  0.0   0.0   0.0   0.0   0.0   0.0   0.0  rel 4\n",
      " >> copy U UD\n",
      " >> setoption boundguess 1\n",
      " >> if MAXDOF > 7\n",
      " >>  clear U\n",
      " >> if MAXDOF > 7\n",
      " >>  optimise 9  UD:1  0.0   0.0   0.0   0.0   0.0   0.0   0.0  rel 1\n",
      " >> copy U UE\n",
      " >> if MAXDOF > 9\n",
      " >>  clear U\n",
      " >> if MAXDOF > 9\n",
      " >>  optimise 12 UE:1  0.0   0.0   0.0   0.0   0.0   0.0   0.0  rel 2\n",
      " >> sort U\n",
      " >> copy U UF\n",
      " >> \n",
      " >> # 1mm scale\n",
      " >> setscale 1\n",
      " >> setoption smoothing 1\n",
      " >> setoption boundguess 1\n",
      " >> setoption paramsubset 3  0 0 1 0 0 0 0 0 0 0 0 0  0 0 0 1 0 0 0 0 0 0 0 0  0 0 0 0 1 0 0 0 0 0 0 0\n",
      " >> clear U\n",
      " >> # also try the qsform as a starting point at this resolution\n",
      " >> setrowqsform UF\n",
      " >> optimise 12 UF:1-2  0.0   0.0   0.0   0.0   0.0   0.0   0.0  rel 1\n",
      " >> sort U\n"
     ]
    },
    {
     "data": {
      "text/plain": [
       "CompletedProcess(args=['fslcpgeom', 'expe/slice2_L2_20X/mask2.nii.gz', 'expe/reg/mask_slice2_L2_20X_warped.nii.gz'], returncode=0)"
      ]
     },
     "execution_count": 85,
     "metadata": {},
     "output_type": "execute_result"
    }
   ],
   "source": [
    "import subprocess\n",
    "\n",
    "#mask_slice1 = 'expe/reg/mask_slice1_L2_20X.bmp'\n",
    "#mask_slice2 = 'expe/reg/mask_slice2_L2_20X.bmp'\n",
    "mask_template = 'expe/reg/template.bmp'\n",
    "\n",
    "#mask_slice1_nii = mask_slice1.replace(\".bmp\", \".nii.gz\")\n",
    "#mask_slice2_nii = mask_slice2.replace(\".bmp\", \".nii.gz\")\n",
    "\n",
    "mask_slice1_nii = 'expe/slice1_L2_20X/mask1.nii.gz'\n",
    "mask_slice2_nii = 'expe/slice2_L2_20X/mask2.nii.gz'\n",
    "\n",
    "mask_template_nii = mask_template.replace(\".bmp\", \".nii.gz\")\n",
    "\n",
    "#subprocess.run([\"ConvertImage\", \"2\", mask_slice1, mask_slice1_nii]) \n",
    "#subprocess.run([\"ConvertImage\", \"2\", mask_slice2, mask_slice2_nii]) \n",
    "subprocess.run([\"ConvertImage\", \"2\", mask_template, mask_template_nii]) \n",
    "\n",
    "#subprocess.run([\"CopyImageHeaderInformation\", mask_template_nii,  filename_nii_ds_x_y_t_tmean, filename_nii_ds_x_y_t_tmean,  \"1 1 1\"])  \n",
    "#subprocess.run([\"CopyImageHeaderInformation\", mask_template_nii,  filename_nii_ds_x_y_t_tmax, filename_nii_ds_x_y_t_tmax,  \"1 1 1\"]) \n",
    "#subprocess.run([\"fslcpgeom\", mask_template_nii,  mask_slice1_nii])  \n",
    "#subprocess.run([\"fslcpgeom\", mask_template_nii,  mask_slice2_nii]) \n",
    "\n",
    "\n",
    "### Affine registration\n",
    "matrice_slice1 = 'expe/reg/mask_slice1_L2_20X.omat'\n",
    "matrice_slice2 = 'expe/reg/mask_slice2_L2_20X.omat'\n",
    "mask_warped_slice1 = 'expe/reg/mask_slice1_L2_20X_warped.nii.gz'\n",
    "mask_warped_slice2 = 'expe/reg/mask_slice2_L2_20X_warped.nii.gz'\n",
    "subprocess.run([\"flirt\", \"-in\" , mask_slice1_nii, \"-ref\", mask_template_nii, \"-omat\", matrice_slice1, \"-o\" ,mask_warped_slice1, \"-2D\",\"-v\"])  \n",
    "subprocess.run([\"flirt\", \"-in\" , mask_slice2_nii, \"-ref\", mask_template_nii, \"-omat\", matrice_slice2, \"-o\" ,mask_warped_slice2, \"-2D\",\"-v\"])\n",
    "\n",
    "subprocess.run([\"fslcpgeom\", mask_slice1_nii,  mask_warped_slice1])  \n",
    "subprocess.run([\"fslcpgeom\", mask_slice2_nii,  mask_warped_slice2]) \n",
    "\n"
   ]
  },
  {
   "cell_type": "code",
   "execution_count": 88,
   "id": "3d2a2a00-e097-4ea0-b37c-08c94b549470",
   "metadata": {},
   "outputs": [
    {
     "name": "stdout",
     "output_type": "stream",
     "text": [
      "experience:  reg\n",
      "experience:  slice1_L2_20X\n",
      "/Users/letroter.a/Desktop/calimglia/expe/slice1_L2_20X/4_50_0_2_ds_Tmax.nii.gz\n"
     ]
    },
    {
     "name": "stderr",
     "output_type": "stream",
     "text": [
      "WARNING: Both reference and input images have an sform matrix set\n",
      "WARNING: Both reference and input images have an sform matrix set\n"
     ]
    },
    {
     "name": "stdout",
     "output_type": "stream",
     "text": [
      "The output image will use the sform from the reference image\n",
      "Init Matrix = \n",
      "0.940795 -0.338974 0.000000 37.271073 \n",
      "0.338974 0.940795 0.000000 -32.003435 \n",
      "0.000000 0.000000 1.000000 0.000000 \n",
      "0.000000 0.000000 0.000000 1.000000 \n",
      "\n",
      "The output image will use the sform from the reference image\n",
      "Init Matrix = \n",
      "0.940795 -0.338974 0.000000 37.271073 \n",
      "0.338974 0.940795 0.000000 -32.003435 \n",
      "0.000000 0.000000 1.000000 0.000000 \n",
      "0.000000 0.000000 0.000000 1.000000 \n",
      "\n",
      "/Users/letroter.a/Desktop/calimglia/expe/slice1_L2_20X/4_50_0_3_ds_Tmax.nii.gz\n"
     ]
    },
    {
     "name": "stderr",
     "output_type": "stream",
     "text": [
      "WARNING: Both reference and input images have an sform matrix set\n",
      "WARNING: Both reference and input images have an sform matrix set\n"
     ]
    },
    {
     "name": "stdout",
     "output_type": "stream",
     "text": [
      "The output image will use the sform from the reference image\n",
      "Init Matrix = \n",
      "0.940795 -0.338974 0.000000 37.271073 \n",
      "0.338974 0.940795 0.000000 -32.003435 \n",
      "0.000000 0.000000 1.000000 0.000000 \n",
      "0.000000 0.000000 0.000000 1.000000 \n",
      "\n",
      "The output image will use the sform from the reference image\n",
      "Init Matrix = \n",
      "0.940795 -0.338974 0.000000 37.271073 \n",
      "0.338974 0.940795 0.000000 -32.003435 \n",
      "0.000000 0.000000 1.000000 0.000000 \n",
      "0.000000 0.000000 0.000000 1.000000 \n",
      "\n",
      "/Users/letroter.a/Desktop/calimglia/expe/slice1_L2_20X/4_50_0_5_ds_Tmax.nii.gz\n"
     ]
    },
    {
     "name": "stderr",
     "output_type": "stream",
     "text": [
      "WARNING: Both reference and input images have an sform matrix set\n",
      "WARNING: Both reference and input images have an sform matrix set\n"
     ]
    },
    {
     "name": "stdout",
     "output_type": "stream",
     "text": [
      "The output image will use the sform from the reference image\n",
      "Init Matrix = \n",
      "0.940795 -0.338974 0.000000 37.271073 \n",
      "0.338974 0.940795 0.000000 -32.003435 \n",
      "0.000000 0.000000 1.000000 0.000000 \n",
      "0.000000 0.000000 0.000000 1.000000 \n",
      "\n",
      "The output image will use the sform from the reference image\n",
      "Init Matrix = \n",
      "0.940795 -0.338974 0.000000 37.271073 \n",
      "0.338974 0.940795 0.000000 -32.003435 \n",
      "0.000000 0.000000 1.000000 0.000000 \n",
      "0.000000 0.000000 0.000000 1.000000 \n",
      "\n",
      "/Users/letroter.a/Desktop/calimglia/expe/slice1_L2_20X/4_50_0_4_ds_Tmax.nii.gz\n"
     ]
    },
    {
     "name": "stderr",
     "output_type": "stream",
     "text": [
      "WARNING: Both reference and input images have an sform matrix set\n",
      "WARNING: Both reference and input images have an sform matrix set\n"
     ]
    },
    {
     "name": "stdout",
     "output_type": "stream",
     "text": [
      "The output image will use the sform from the reference image\n",
      "Init Matrix = \n",
      "0.940795 -0.338974 0.000000 37.271073 \n",
      "0.338974 0.940795 0.000000 -32.003435 \n",
      "0.000000 0.000000 1.000000 0.000000 \n",
      "0.000000 0.000000 0.000000 1.000000 \n",
      "\n",
      "The output image will use the sform from the reference image\n",
      "Init Matrix = \n",
      "0.940795 -0.338974 0.000000 37.271073 \n",
      "0.338974 0.940795 0.000000 -32.003435 \n",
      "0.000000 0.000000 1.000000 0.000000 \n",
      "0.000000 0.000000 0.000000 1.000000 \n",
      "\n",
      "/Users/letroter.a/Desktop/calimglia/expe/slice1_L2_20X/4_50_0_1_ds_Tmax.nii.gz\n"
     ]
    },
    {
     "name": "stderr",
     "output_type": "stream",
     "text": [
      "WARNING: Both reference and input images have an sform matrix set\n",
      "WARNING: Both reference and input images have an sform matrix set\n"
     ]
    },
    {
     "name": "stdout",
     "output_type": "stream",
     "text": [
      "The output image will use the sform from the reference image\n",
      "Init Matrix = \n",
      "0.940795 -0.338974 0.000000 37.271073 \n",
      "0.338974 0.940795 0.000000 -32.003435 \n",
      "0.000000 0.000000 1.000000 0.000000 \n",
      "0.000000 0.000000 0.000000 1.000000 \n",
      "\n",
      "The output image will use the sform from the reference image\n",
      "Init Matrix = \n",
      "0.940795 -0.338974 0.000000 37.271073 \n",
      "0.338974 0.940795 0.000000 -32.003435 \n",
      "0.000000 0.000000 1.000000 0.000000 \n",
      "0.000000 0.000000 0.000000 1.000000 \n",
      "\n",
      "/Users/letroter.a/Desktop/calimglia/expe/slice1_L2_20X/4_50_0_6_ds_Tmax.nii.gz\n"
     ]
    },
    {
     "name": "stderr",
     "output_type": "stream",
     "text": [
      "WARNING: Both reference and input images have an sform matrix set\n",
      "WARNING: Both reference and input images have an sform matrix set\n"
     ]
    },
    {
     "name": "stdout",
     "output_type": "stream",
     "text": [
      "The output image will use the sform from the reference image\n",
      "Init Matrix = \n",
      "0.940795 -0.338974 0.000000 37.271073 \n",
      "0.338974 0.940795 0.000000 -32.003435 \n",
      "0.000000 0.000000 1.000000 0.000000 \n",
      "0.000000 0.000000 0.000000 1.000000 \n",
      "\n",
      "The output image will use the sform from the reference image\n",
      "Init Matrix = \n",
      "0.940795 -0.338974 0.000000 37.271073 \n",
      "0.338974 0.940795 0.000000 -32.003435 \n",
      "0.000000 0.000000 1.000000 0.000000 \n",
      "0.000000 0.000000 0.000000 1.000000 \n",
      "\n",
      "experience:  slice2_L2_20X\n",
      "/Users/letroter.a/Desktop/calimglia/expe/slice2_L2_20X/4_50_0_2_ds_Tmax.nii.gz\n"
     ]
    },
    {
     "name": "stderr",
     "output_type": "stream",
     "text": [
      "WARNING: Both reference and input images have an sform matrix set\n",
      "WARNING: Both reference and input images have an sform matrix set\n"
     ]
    },
    {
     "name": "stdout",
     "output_type": "stream",
     "text": [
      "The output image will use the sform from the reference image\n",
      "Init Matrix = \n",
      "0.996349 0.085373 0.000000 -1.470264 \n",
      "-0.085373 0.996349 0.000000 9.143511 \n",
      "0.000000 0.000000 1.000000 -0.000000 \n",
      "0.000000 0.000000 0.000000 1.000000 \n",
      "\n",
      "The output image will use the sform from the reference image\n",
      "Init Matrix = \n",
      "0.996349 0.085373 0.000000 -1.470264 \n",
      "-0.085373 0.996349 0.000000 9.143511 \n",
      "0.000000 0.000000 1.000000 -0.000000 \n",
      "0.000000 0.000000 0.000000 1.000000 \n",
      "\n",
      "/Users/letroter.a/Desktop/calimglia/expe/slice2_L2_20X/4_50_0_3_ds_Tmax.nii.gz\n"
     ]
    },
    {
     "name": "stderr",
     "output_type": "stream",
     "text": [
      "WARNING: Both reference and input images have an sform matrix set\n",
      "WARNING: Both reference and input images have an sform matrix set\n"
     ]
    },
    {
     "name": "stdout",
     "output_type": "stream",
     "text": [
      "The output image will use the sform from the reference image\n",
      "Init Matrix = \n",
      "0.996349 0.085373 0.000000 -1.470264 \n",
      "-0.085373 0.996349 0.000000 9.143511 \n",
      "0.000000 0.000000 1.000000 -0.000000 \n",
      "0.000000 0.000000 0.000000 1.000000 \n",
      "\n",
      "The output image will use the sform from the reference image\n",
      "Init Matrix = \n",
      "0.996349 0.085373 0.000000 -1.470264 \n",
      "-0.085373 0.996349 0.000000 9.143511 \n",
      "0.000000 0.000000 1.000000 -0.000000 \n",
      "0.000000 0.000000 0.000000 1.000000 \n",
      "\n",
      "/Users/letroter.a/Desktop/calimglia/expe/slice2_L2_20X/4_50_0_8_ds_Tmax.nii.gz\n"
     ]
    },
    {
     "name": "stderr",
     "output_type": "stream",
     "text": [
      "WARNING: Both reference and input images have an sform matrix set\n",
      "WARNING: Both reference and input images have an sform matrix set\n"
     ]
    },
    {
     "name": "stdout",
     "output_type": "stream",
     "text": [
      "The output image will use the sform from the reference image\n",
      "Init Matrix = \n",
      "0.996349 0.085373 0.000000 -1.470264 \n",
      "-0.085373 0.996349 0.000000 9.143511 \n",
      "0.000000 0.000000 1.000000 -0.000000 \n",
      "0.000000 0.000000 0.000000 1.000000 \n",
      "\n",
      "The output image will use the sform from the reference image\n",
      "Init Matrix = \n",
      "0.996349 0.085373 0.000000 -1.470264 \n",
      "-0.085373 0.996349 0.000000 9.143511 \n",
      "0.000000 0.000000 1.000000 -0.000000 \n",
      "0.000000 0.000000 0.000000 1.000000 \n",
      "\n",
      "/Users/letroter.a/Desktop/calimglia/expe/slice2_L2_20X/4_50_0_5_ds_Tmax.nii.gz\n"
     ]
    },
    {
     "name": "stderr",
     "output_type": "stream",
     "text": [
      "WARNING: Both reference and input images have an sform matrix set\n",
      "WARNING: Both reference and input images have an sform matrix set\n"
     ]
    },
    {
     "name": "stdout",
     "output_type": "stream",
     "text": [
      "The output image will use the sform from the reference image\n",
      "Init Matrix = \n",
      "0.996349 0.085373 0.000000 -1.470264 \n",
      "-0.085373 0.996349 0.000000 9.143511 \n",
      "0.000000 0.000000 1.000000 -0.000000 \n",
      "0.000000 0.000000 0.000000 1.000000 \n",
      "\n",
      "The output image will use the sform from the reference image\n",
      "Init Matrix = \n",
      "0.996349 0.085373 0.000000 -1.470264 \n",
      "-0.085373 0.996349 0.000000 9.143511 \n",
      "0.000000 0.000000 1.000000 -0.000000 \n",
      "0.000000 0.000000 0.000000 1.000000 \n",
      "\n",
      "/Users/letroter.a/Desktop/calimglia/expe/slice2_L2_20X/4_50_0_4_ds_Tmax.nii.gz\n"
     ]
    },
    {
     "name": "stderr",
     "output_type": "stream",
     "text": [
      "WARNING: Both reference and input images have an sform matrix set\n",
      "WARNING: Both reference and input images have an sform matrix set\n"
     ]
    },
    {
     "name": "stdout",
     "output_type": "stream",
     "text": [
      "The output image will use the sform from the reference image\n",
      "Init Matrix = \n",
      "0.996349 0.085373 0.000000 -1.470264 \n",
      "-0.085373 0.996349 0.000000 9.143511 \n",
      "0.000000 0.000000 1.000000 -0.000000 \n",
      "0.000000 0.000000 0.000000 1.000000 \n",
      "\n",
      "The output image will use the sform from the reference image\n",
      "Init Matrix = \n",
      "0.996349 0.085373 0.000000 -1.470264 \n",
      "-0.085373 0.996349 0.000000 9.143511 \n",
      "0.000000 0.000000 1.000000 -0.000000 \n",
      "0.000000 0.000000 0.000000 1.000000 \n",
      "\n",
      "/Users/letroter.a/Desktop/calimglia/expe/slice2_L2_20X/4_50_0_1_ds_Tmax.nii.gz\n"
     ]
    },
    {
     "name": "stderr",
     "output_type": "stream",
     "text": [
      "WARNING: Both reference and input images have an sform matrix set\n",
      "WARNING: Both reference and input images have an sform matrix set\n"
     ]
    },
    {
     "name": "stdout",
     "output_type": "stream",
     "text": [
      "The output image will use the sform from the reference image\n",
      "Init Matrix = \n",
      "0.996349 0.085373 0.000000 -1.470264 \n",
      "-0.085373 0.996349 0.000000 9.143511 \n",
      "0.000000 0.000000 1.000000 -0.000000 \n",
      "0.000000 0.000000 0.000000 1.000000 \n",
      "\n",
      "The output image will use the sform from the reference image\n",
      "Init Matrix = \n",
      "0.996349 0.085373 0.000000 -1.470264 \n",
      "-0.085373 0.996349 0.000000 9.143511 \n",
      "0.000000 0.000000 1.000000 -0.000000 \n",
      "0.000000 0.000000 0.000000 1.000000 \n",
      "\n",
      "/Users/letroter.a/Desktop/calimglia/expe/slice2_L2_20X/4_50_0_0_ds_Tmax.nii.gz\n"
     ]
    },
    {
     "name": "stderr",
     "output_type": "stream",
     "text": [
      "WARNING: Both reference and input images have an sform matrix set\n",
      "WARNING: Both reference and input images have an sform matrix set\n"
     ]
    },
    {
     "name": "stdout",
     "output_type": "stream",
     "text": [
      "The output image will use the sform from the reference image\n",
      "Init Matrix = \n",
      "0.996349 0.085373 0.000000 -1.470264 \n",
      "-0.085373 0.996349 0.000000 9.143511 \n",
      "0.000000 0.000000 1.000000 -0.000000 \n",
      "0.000000 0.000000 0.000000 1.000000 \n",
      "\n",
      "The output image will use the sform from the reference image\n",
      "Init Matrix = \n",
      "0.996349 0.085373 0.000000 -1.470264 \n",
      "-0.085373 0.996349 0.000000 9.143511 \n",
      "0.000000 0.000000 1.000000 -0.000000 \n",
      "0.000000 0.000000 0.000000 1.000000 \n",
      "\n",
      "/Users/letroter.a/Desktop/calimglia/expe/slice2_L2_20X/4_50_0_7_ds_Tmax.nii.gz\n",
      "The output image will use the sform from the reference image\n",
      "Init Matrix = \n",
      "0.996349 0.085373 0.000000 -1.470264 \n",
      "-0.085373 0.996349 0.000000 9.143511 \n",
      "0.000000 0.000000 1.000000 -0.000000 \n",
      "0.000000 0.000000 0.000000 1.000000 \n",
      "\n",
      "The output image will use the sform from the reference image\n",
      "Init Matrix = \n",
      "0.996349 0.085373 0.000000 -1.470264 \n",
      "-0.085373 0.996349 0.000000 9.143511 \n",
      "0.000000 0.000000 1.000000 -0.000000 \n",
      "0.000000 0.000000 0.000000 1.000000 \n",
      "\n"
     ]
    },
    {
     "name": "stderr",
     "output_type": "stream",
     "text": [
      "WARNING: Both reference and input images have an sform matrix set\n",
      "WARNING: Both reference and input images have an sform matrix set\n"
     ]
    }
   ],
   "source": [
    "list_exp = os.listdir(dir_path)\n",
    "\n",
    "for exp in list_exp:\n",
    "    print(\"experience: \", exp)\n",
    "    list_files = os.listdir(os.path.join(dir_path,str(exp)))\n",
    "    for file in list_files:\n",
    "      if file.endswith(\".ome.tiff\"):\n",
    "        img_ometif_name = dir_path + '/' + str(exp) + '/'  + str(file)\n",
    "        filename_nii_ds_x_y_t = file.replace(\".ome.tiff\", \"_ds.nii.gz\")\n",
    "        ome_to_nii_name_ds_x_y_t = os.path.join(dir_path,str(exp),str(downsample_factor_x_y)+'_'+str(downsample_factor_t)+'_'+filename_nii_ds_x_y_t)\n",
    "        filename_nii_ds_x_y_t_tmean = ome_to_nii_name_ds_x_y_t.replace(\"_ds.nii.gz\", \"_ds_Tmean.nii.gz\")\n",
    "        filename_nii_ds_x_y_t_tmax = ome_to_nii_name_ds_x_y_t.replace(\"_ds.nii.gz\", \"_ds_Tmax.nii.gz\")\n",
    "        #-Tmax & -Tmean\n",
    "        print(filename_nii_ds_x_y_t_tmax)\n",
    "        subprocess.run([\"fslmaths\", ome_to_nii_name_ds_x_y_t, \"-Tmean\", filename_nii_ds_x_y_t_tmean]) \n",
    "        subprocess.run([\"fslmaths\", ome_to_nii_name_ds_x_y_t, \"-Tmax\", filename_nii_ds_x_y_t_tmax]) \n",
    "\n",
    "        subprocess.run([\"CopyImageHeaderInformation\", mask_template_nii,  filename_nii_ds_x_y_t_tmean, filename_nii_ds_x_y_t_tmean,  \"1 1 1\"])  \n",
    "        subprocess.run([\"CopyImageHeaderInformation\", mask_template_nii,  filename_nii_ds_x_y_t_tmax, filename_nii_ds_x_y_t_tmax,  \"1 1 1\"]) \n",
    "\n",
    "        subprocess.run([\"fslcpgeom\", mask_template_nii,  filename_nii_ds_x_y_t_tmean])  \n",
    "        subprocess.run([\"fslcpgeom\", mask_template_nii,  filename_nii_ds_x_y_t_tmax]) \n",
    "\n",
    "        filename_nii_ds_x_y_t_tmean_reg = ome_to_nii_name_ds_x_y_t.replace(\"_ds.nii.gz\", \"_ds_Tmean_registered.nii.gz\")\n",
    "        filename_nii_ds_x_y_t_tmax_reg = ome_to_nii_name_ds_x_y_t.replace(\"_ds.nii.gz\", \"_ds_Tmax_registered.nii.gz\")\n",
    "\n",
    "        matrice = \"expe/reg/mask_\"+ str(exp) + \".omat\"\n",
    "\n",
    "        subprocess.run([\"flirt\", \"-in\" , filename_nii_ds_x_y_t_tmax, \"-ref\", mask_template_nii, \"-init\", matrice,  \"-applyxfm\", \"-2D\", \"-o\", filename_nii_ds_x_y_t_tmax_reg,\"-v\"])  \n",
    "        subprocess.run([\"flirt\", \"-in\" , filename_nii_ds_x_y_t_tmean, \"-ref\", mask_template_nii, \"-init\", matrice,  \"-applyxfm\", \"-2D\", \"-o\", filename_nii_ds_x_y_t_tmean_reg,\"-v\"])  \n",
    "\n",
    "        subprocess.run([\"fslcpgeom\", mask_template_nii,  filename_nii_ds_x_y_t_tmax_reg])  \n",
    "        subprocess.run([\"fslcpgeom\", mask_template_nii,  filename_nii_ds_x_y_t_tmean_reg]) \n",
    "\n",
    "\n"
   ]
  },
  {
   "cell_type": "code",
   "execution_count": 89,
   "id": "8dcf515c-a9bd-4075-852c-ea1fdfc4c524",
   "metadata": {},
   "outputs": [
    {
     "data": {
      "text/plain": [
       "CompletedProcess(args=['fslcpgeom', 'expe/reg/template.nii.gz', 'expe/reg/mask_slice2_L2_20X_warped.nii.gz'], returncode=0)"
      ]
     },
     "execution_count": 89,
     "metadata": {},
     "output_type": "execute_result"
    }
   ],
   "source": [
    "subprocess.run([\"fslcpgeom\", mask_template_nii,  mask_warped_slice1])  \n",
    "subprocess.run([\"fslcpgeom\", mask_template_nii,  mask_warped_slice2]) \n",
    "    "
   ]
  },
  {
   "cell_type": "code",
   "execution_count": null,
   "id": "42a1b79a-b6b4-4ed2-9328-d2d51ddb56df",
   "metadata": {},
   "outputs": [],
   "source": []
  }
 ],
 "metadata": {
  "kernelspec": {
   "display_name": "Python 3 (ipykernel)",
   "language": "python",
   "name": "python3"
  },
  "language_info": {
   "codemirror_mode": {
    "name": "ipython",
    "version": 3
   },
   "file_extension": ".py",
   "mimetype": "text/x-python",
   "name": "python",
   "nbconvert_exporter": "python",
   "pygments_lexer": "ipython3",
   "version": "3.11.6"
  }
 },
 "nbformat": 4,
 "nbformat_minor": 5
}
